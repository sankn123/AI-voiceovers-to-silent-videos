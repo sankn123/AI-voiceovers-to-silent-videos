{
  "cells": [
    {
      "cell_type": "code",
      "execution_count": null,
      "metadata": {
        "id": "PU2Tik9oZQvN"
      },
      "outputs": [],
      "source": [
        "%pip install openai\n",
        "%pip install videodb"
      ]
    },
    {
      "cell_type": "code",
      "execution_count": null,
      "metadata": {
        "id": "rIr7l5HrZQvP"
      },
      "outputs": [],
      "source": [
        "import os\n",
        "\n",
        "os.environ[\"OPENAI_API_KEY\"] = \"\"\n",
        "os.environ[\"ELEVEN_LABS_API_KEY\"] = \"\"\n",
        "os.environ[\"VIDEO_DB_API_KEY\"] = \"\""
      ]
    },
    {
      "cell_type": "markdown",
      "metadata": {
        "id": "Hml4M7xzZQvQ"
      },
      "source": [
        "ElevenLabs has a large variety of voices to choose from ([here](https://elevenlabs.io/voice-library)), Once finalized, copy the Voice ID from ElevenLabs"
      ]
    },
    {
      "cell_type": "code",
      "execution_count": null,
      "metadata": {
        "id": "fnk_uRLuZQvQ"
      },
      "outputs": [],
      "source": [
        "voiceover_artist_id = \"VOICEOVER_ARTIST_ID\""
      ]
    },
    {
      "cell_type": "code",
      "execution_count": null,
      "metadata": {
        "id": "WUR30ppmZQvR"
      },
      "outputs": [],
      "source": [
        "from videodb import connect\n",
        "\n",
        "# Connect to VideoDB using your API key\n",
        "conn = connect()"
      ]
    },
    {
      "cell_type": "code",
      "execution_count": null,
      "metadata": {
        "id": "X2rmF087ZQvS"
      },
      "outputs": [],
      "source": [
        "# Upload a video by URL (replace the url with your video)\n",
        "video = conn.upload(url='https://youtu.be/RcRjY5kzia8')"
      ]
    },
    {
      "cell_type": "code",
      "execution_count": null,
      "metadata": {
        "id": "_YMyLiPiZQvT"
      },
      "outputs": [],
      "source": [
        "# This will provide context for generating the script prompt\n",
        "video.index_scenes()"
      ]
    },
    {
      "cell_type": "markdown",
      "metadata": {
        "id": "E_MH1HuEZQvT"
      },
      "source": [
        "Let's view the description of first scene of the video"
      ]
    },
    {
      "cell_type": "code",
      "execution_count": null,
      "metadata": {
        "id": "UuC99clSZQvT"
      },
      "outputs": [],
      "source": [
        "scenes = video.get_scenes()\n",
        "print(f\"{scenes[0]['start']} - {scenes[0]['end']}\")\n",
        "print(scenes[0][\"response\"])"
      ]
    },
    {
      "cell_type": "markdown",
      "metadata": {
        "id": "cxysce16ZQvU"
      },
      "source": [
        "Combine scene descriptions with the script prompt, instructing LLM to create a voiceover script"
      ]
    },
    {
      "cell_type": "code",
      "execution_count": null,
      "metadata": {
        "id": "S-sNvSv4ZQvV"
      },
      "outputs": [],
      "source": [
        "import openai\n",
        "\n",
        "client = openai.OpenAI()\n",
        "\n",
        "script_prompt = \"Here's the data from a scene index for a video about the <very short description of you video>. Study this and then generate a synced script based on the description below.\"\n",
        "\n",
        "full_prompt = script_prompt + \"\\n\\n\"\n",
        "for scene in scenes:\n",
        "  full_prompt += f\"- {scene}\\n\"\n",
        "\n",
        "openai_res = client.chat.completions.create(\n",
        "    model=\"gpt-3.5-turbo\",\n",
        "    messages=[{\"role\": \"system\", \"content\": full_prompt}],\n",
        ")\n",
        "voiceover_script = openai_res.choices[0].message.content\n",
        "\n",
        "# If you have ElevenLab's paid plan remove this\n",
        "voiceover_script = voiceover_script[:2500]"
      ]
    },
    {
      "cell_type": "markdown",
      "metadata": {
        "id": "obd-slB2ZQvV"
      },
      "source": [
        "Utilize the generated script to synthesize AI-generated voiceover narration using ElevenLabs API"
      ]
    },
    {
      "cell_type": "code",
      "execution_count": null,
      "metadata": {
        "id": "7q9jP155ZQvV"
      },
      "outputs": [],
      "source": [
        "import requests\n",
        "\n",
        "\n",
        "# Call ElevenLabs API to generate voiceover\n",
        "url = f\"https://api.elevenlabs.io/v1/text-to-speech/{voiceover_artist_id}\"\n",
        "headers = {\n",
        "    \"xi-api-key\": os.environ.get(\"ELEVEN_LABS_API_KEY\"),\n",
        "    \"Content-Type\": \"application/json\"\n",
        "}\n",
        "payload = {\n",
        "    \"model_id\": \"eleven_monolingual_v1\",\n",
        "    \"text\": voiceover_script,\n",
        "    \"voice_settings\": {\n",
        "        \"stability\": 0.5,\n",
        "        \"similarity_boost\": 0.5\n",
        "    }\n",
        "}\n",
        "elevenlabs_res = requests.request(\"POST\", url, json=payload, headers=headers)\n",
        "\n",
        "# Save the audio file\n",
        "audio_file = \"audio.mp3\"\n",
        "CHUNK_SIZE = 1024\n",
        "with open(audio_file, 'wb') as f:\n",
        "    for chunk in elevenlabs_res.iter_content(chunk_size=CHUNK_SIZE):\n",
        "        if chunk:\n",
        "            f.write(chunk)"
      ]
    },
    {
      "cell_type": "markdown",
      "metadata": {
        "id": "AZvFPRcHZQvW"
      },
      "source": [
        "To use the voiceover generated above, uploading the voiceover file to VideoDB"
      ]
    },
    {
      "cell_type": "code",
      "execution_count": null,
      "metadata": {
        "id": "WWG9cW5EZQvW"
      },
      "outputs": [],
      "source": [
        "audio = conn.upload(file_path=audio_file)"
      ]
    },
    {
      "cell_type": "markdown",
      "metadata": {
        "id": "6OoVbf9UZQvW"
      },
      "source": [
        "Finally, add the AI-generated voiceover to the original footage using VideoDB's timeline feature"
      ]
    },
    {
      "cell_type": "code",
      "execution_count": null,
      "metadata": {
        "id": "NGETGaXjZQvW"
      },
      "outputs": [],
      "source": [
        "from videodb.timeline import Timeline\n",
        "from videodb.asset import VideoAsset, AudioAsset\n",
        "\n",
        "# Create a timeline object\n",
        "timeline = Timeline(conn)\n",
        "\n",
        "# Add the video asset to the timeline for playback\n",
        "video_asset = VideoAsset(asset_id=video.id)\n",
        "timeline.add_inline(asset=video_asset)\n",
        "\n",
        "# Add the audio asset to the timeline for playback\n",
        "audio_asset = AudioAsset(asset_id=audio.id)\n",
        "timeline.add_overlay(start=0, asset=audio_asset)"
      ]
    },
    {
      "cell_type": "markdown",
      "metadata": {
        "id": "pp2JXChNZQvX"
      },
      "source": [
        "generate a stream of the video\n"
      ]
    },
    {
      "cell_type": "code",
      "execution_count": null,
      "metadata": {
        "id": "X5F7Oh6MZQvX"
      },
      "outputs": [],
      "source": [
        "from videodb import play_stream\n",
        "\n",
        "stream_url = timeline.generate_stream()\n",
        "play_stream(stream_url)"
      ]
    }
  ],
  "metadata": {
    "kernelspec": {
      "display_name": "Python 3 (ipykernel)",
      "language": "python",
      "name": "python3"
    },
    "language_info": {
      "codemirror_mode": {
        "name": "ipython",
        "version": 3
      },
      "file_extension": ".py",
      "mimetype": "text/x-python",
      "name": "python",
      "nbconvert_exporter": "python",
      "pygments_lexer": "ipython3",
      "version": "3.12.0"
    },
    "colab": {
      "provenance": []
    }
  },
  "nbformat": 4,
  "nbformat_minor": 0
}